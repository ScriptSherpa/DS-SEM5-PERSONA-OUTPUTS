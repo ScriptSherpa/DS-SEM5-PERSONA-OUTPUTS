{
  "metadata": {
    "kernelspec": {
      "language": "python",
      "display_name": "Python 3",
      "name": "python3"
    },
    "language_info": {
      "name": "python",
      "version": "3.11.11",
      "mimetype": "text/x-python",
      "codemirror_mode": {
        "name": "ipython",
        "version": 3
      },
      "pygments_lexer": "ipython3",
      "nbconvert_exporter": "python",
      "file_extension": ".py"
    },
    "kaggle": {
      "accelerator": "none",
      "dataSources": [],
      "dockerImageVersionId": 31012,
      "isInternetEnabled": false,
      "language": "python",
      "sourceType": "notebook",
      "isGpuEnabled": false
    },
    "colab": {
      "name": "EXP 3",
      "provenance": [],
      "include_colab_link": true
    }
  },
  "nbformat_minor": 0,
  "nbformat": 4,
  "cells": [
    {
      "cell_type": "markdown",
      "metadata": {
        "id": "view-in-github",
        "colab_type": "text"
      },
      "source": [
        "<a href=\"https://colab.research.google.com/github/ScriptSherpa/DS-SEM5-PERSONA-OUTPUTS/blob/main/EXP_3.ipynb\" target=\"_parent\"><img src=\"https://colab.research.google.com/assets/colab-badge.svg\" alt=\"Open In Colab\"/></a>"
      ]
    },
    {
      "cell_type": "markdown",
      "source": [
        "NIKHIL MALVI\n",
        "B 50\n",
        "EXP 3"
      ],
      "metadata": {
        "id": "HoE6OAwdjxjr"
      }
    },
    {
      "cell_type": "code",
      "source": [
        "from sklearn.datasets import load_iris\n",
        "import pandas as pd\n",
        "\n",
        "# Load the built-in Iris dataset from scikit-learn\n",
        "iris = load_iris()\n",
        "\n",
        "# Convert to pandas DataFrame and add species names as a new column\n",
        "df = pd.DataFrame(data=iris.data, columns=iris.feature_names)\n",
        "df['Species'] = pd.Categorical.from_codes(iris.target, iris.target_names)\n",
        "\n",
        "# Get the list of unique species in the dataset\n",
        "species_list = df['Species'].unique().tolist()\n",
        "print(\"\\nList of Unique Species:\\n\", species_list)\n",
        "\n",
        "# Generate descriptive statistics for each species individually\n",
        "setosa_stats = df[df['Species'] == 'setosa'].describe()\n",
        "versicolor_stats = df[df['Species'] == 'versicolor'].describe()\n",
        "virginica_stats = df[df['Species'] == 'virginica'].describe()\n",
        "\n",
        "# Print the statistics for each species\n",
        "print(\"\\nSetosa Statistics:\\n\", setosa_stats)\n",
        "print(\"\\nVersicolor Statistics:\\n\", versicolor_stats)\n",
        "print(\"\\nVirginica Statistics:\\n\", virginica_stats)\n"
      ],
      "metadata": {
        "trusted": true,
        "execution": {
          "iopub.status.busy": "2025-04-15T13:05:47.327075Z",
          "iopub.execute_input": "2025-04-15T13:05:47.327362Z",
          "iopub.status.idle": "2025-04-15T13:05:47.364826Z",
          "shell.execute_reply.started": "2025-04-15T13:05:47.327342Z",
          "shell.execute_reply": "2025-04-15T13:05:47.363821Z"
        },
        "id": "cwgrtg-Gjxjv",
        "outputId": "fa31a090-7269-471d-f984-d03bccacd136"
      },
      "outputs": [
        {
          "name": "stdout",
          "text": "\nList of Unique Species:\n ['setosa', 'versicolor', 'virginica']\n\nSetosa Statistics:\n        sepal length (cm)  sepal width (cm)  petal length (cm)  \\\ncount           50.00000         50.000000          50.000000   \nmean             5.00600          3.428000           1.462000   \nstd              0.35249          0.379064           0.173664   \nmin              4.30000          2.300000           1.000000   \n25%              4.80000          3.200000           1.400000   \n50%              5.00000          3.400000           1.500000   \n75%              5.20000          3.675000           1.575000   \nmax              5.80000          4.400000           1.900000   \n\n       petal width (cm)  \ncount         50.000000  \nmean           0.246000  \nstd            0.105386  \nmin            0.100000  \n25%            0.200000  \n50%            0.200000  \n75%            0.300000  \nmax            0.600000  \n\nVersicolor Statistics:\n        sepal length (cm)  sepal width (cm)  petal length (cm)  \\\ncount          50.000000         50.000000          50.000000   \nmean            5.936000          2.770000           4.260000   \nstd             0.516171          0.313798           0.469911   \nmin             4.900000          2.000000           3.000000   \n25%             5.600000          2.525000           4.000000   \n50%             5.900000          2.800000           4.350000   \n75%             6.300000          3.000000           4.600000   \nmax             7.000000          3.400000           5.100000   \n\n       petal width (cm)  \ncount         50.000000  \nmean           1.326000  \nstd            0.197753  \nmin            1.000000  \n25%            1.200000  \n50%            1.300000  \n75%            1.500000  \nmax            1.800000  \n\nVirginica Statistics:\n        sepal length (cm)  sepal width (cm)  petal length (cm)  \\\ncount           50.00000         50.000000          50.000000   \nmean             6.58800          2.974000           5.552000   \nstd              0.63588          0.322497           0.551895   \nmin              4.90000          2.200000           4.500000   \n25%              6.22500          2.800000           5.100000   \n50%              6.50000          3.000000           5.550000   \n75%              6.90000          3.175000           5.875000   \nmax              7.90000          3.800000           6.900000   \n\n       petal width (cm)  \ncount          50.00000  \nmean            2.02600  \nstd             0.27465  \nmin             1.40000  \n25%             1.80000  \n50%             2.00000  \n75%             2.30000  \nmax             2.50000  \n",
          "output_type": "stream"
        }
      ],
      "execution_count": null
    },
    {
      "cell_type": "code",
      "source": [
        "from sklearn.datasets import load_iris\n",
        "import pandas as pd\n",
        "\n",
        "# Load the Iris dataset\n",
        "iris = load_iris()\n",
        "\n",
        "# Convert to pandas DataFrame for easy viewing\n",
        "df = pd.DataFrame(data=iris.data, columns=iris.feature_names)\n",
        "df['target'] = iris.target\n",
        "\n",
        "# Display the headers and first 5 rows\n",
        "print(\"Headers:\", df.columns.tolist())\n",
        "print(\"First 5 rows:\")\n",
        "print(df.head())\n"
      ],
      "metadata": {
        "trusted": true,
        "execution": {
          "iopub.status.busy": "2025-04-15T13:03:53.447058Z",
          "iopub.execute_input": "2025-04-15T13:03:53.447347Z",
          "iopub.status.idle": "2025-04-15T13:03:54.218529Z",
          "shell.execute_reply.started": "2025-04-15T13:03:53.447327Z",
          "shell.execute_reply": "2025-04-15T13:03:54.217619Z"
        },
        "id": "hD9o5ZgGjxjx",
        "outputId": "e1dbaad3-b875-4146-bf44-480a7bb2feb9"
      },
      "outputs": [
        {
          "name": "stdout",
          "text": "Headers: ['sepal length (cm)', 'sepal width (cm)', 'petal length (cm)', 'petal width (cm)', 'target']\nFirst 5 rows:\n   sepal length (cm)  sepal width (cm)  petal length (cm)  petal width (cm)  \\\n0                5.1               3.5                1.4               0.2   \n1                4.9               3.0                1.4               0.2   \n2                4.7               3.2                1.3               0.2   \n3                4.6               3.1                1.5               0.2   \n4                5.0               3.6                1.4               0.2   \n\n   target  \n0       0  \n1       0  \n2       0  \n3       0  \n4       0  \n",
          "output_type": "stream"
        }
      ],
      "execution_count": null
    },
    {
      "cell_type": "code",
      "source": [
        "from sklearn.datasets import load_iris\n",
        "import pandas as pd\n",
        "\n",
        "# Load the Iris dataset\n",
        "iris = load_iris()\n",
        "\n",
        "# Create DataFrame\n",
        "df = pd.DataFrame(data=iris.data, columns=iris.feature_names)\n",
        "df['Species'] = pd.Categorical.from_codes(iris.target, iris.target_names)\n",
        "\n",
        "# Group by Species and calculate statistics\n",
        "grouped_stats = df.groupby('Species').agg(['mean', 'median', 'min', 'max', 'std'])\n",
        "\n",
        "# Display\n",
        "print(\"Statistics Grouped by Species:\\n\", grouped_stats)\n"
      ],
      "metadata": {
        "trusted": true,
        "execution": {
          "iopub.status.busy": "2025-04-15T13:04:51.547162Z",
          "iopub.execute_input": "2025-04-15T13:04:51.547896Z",
          "iopub.status.idle": "2025-04-15T13:04:51.589969Z",
          "shell.execute_reply.started": "2025-04-15T13:04:51.547863Z",
          "shell.execute_reply": "2025-04-15T13:04:51.589022Z"
        },
        "id": "52Y6I_Asjxjy",
        "outputId": "666deb8d-48e1-4dd8-af6e-4d88de15eb3b"
      },
      "outputs": [
        {
          "name": "stdout",
          "text": "Statistics Grouped by Species:\n            sepal length (cm)                            sepal width (cm)  \\\n                        mean median  min  max       std             mean   \nSpecies                                                                    \nsetosa                 5.006    5.0  4.3  5.8  0.352490            3.428   \nversicolor             5.936    5.9  4.9  7.0  0.516171            2.770   \nvirginica              6.588    6.5  4.9  7.9  0.635880            2.974   \n\n                                      petal length (cm)                   \\\n           median  min  max       std              mean median  min  max   \nSpecies                                                                    \nsetosa        3.4  2.3  4.4  0.379064             1.462   1.50  1.0  1.9   \nversicolor    2.8  2.0  3.4  0.313798             4.260   4.35  3.0  5.1   \nvirginica     3.0  2.2  3.8  0.322497             5.552   5.55  4.5  6.9   \n\n                     petal width (cm)                             \n                 std             mean median  min  max       std  \nSpecies                                                           \nsetosa      0.173664            0.246    0.2  0.1  0.6  0.105386  \nversicolor  0.469911            1.326    1.3  1.0  1.8  0.197753  \nvirginica   0.551895            2.026    2.0  1.4  2.5  0.274650  \n",
          "output_type": "stream"
        },
        {
          "name": "stderr",
          "text": "/tmp/ipykernel_31/1605368126.py:12: FutureWarning: The default of observed=False is deprecated and will be changed to True in a future version of pandas. Pass observed=False to retain current behavior or observed=True to adopt the future default and silence this warning.\n  grouped_stats = df.groupby('Species').agg(['mean', 'median', 'min', 'max', 'std'])\n",
          "output_type": "stream"
        }
      ],
      "execution_count": null
    },
    {
      "cell_type": "code",
      "source": [
        "from sklearn.datasets import load_iris\n",
        "import pandas as pd\n",
        "\n",
        "# Load the dataset\n",
        "iris = load_iris()\n",
        "df = pd.DataFrame(data=iris.data, columns=iris.feature_names)\n",
        "df['Species'] = pd.Categorical.from_codes(iris.target, iris.target_names)\n",
        "\n",
        "# List unique species\n",
        "species_list = df['Species'].unique().tolist()\n",
        "print(\"\\nList of Unique Species:\\n\", species_list)\n",
        "\n",
        "# Individual statistics\n",
        "setosa_stats = df[df['Species'] == 'setosa'].describe()\n",
        "versicolor_stats = df[df['Species'] == 'versicolor'].describe()\n",
        "virginica_stats = df[df['Species'] == 'virginica'].describe()\n",
        "\n",
        "# Display stats\n",
        "print(\"\\nSetosa Statistics:\\n\", setosa_stats)\n",
        "print(\"\\nVersicolor Statistics:\\n\", versicolor_stats)\n",
        "print(\"\\nVirginica Statistics:\\n\", virginica_stats)\n"
      ],
      "metadata": {
        "trusted": true,
        "execution": {
          "iopub.status.busy": "2025-04-15T13:05:00.367569Z",
          "iopub.execute_input": "2025-04-15T13:05:00.368267Z",
          "iopub.status.idle": "2025-04-15T13:05:00.409654Z",
          "shell.execute_reply.started": "2025-04-15T13:05:00.368237Z",
          "shell.execute_reply": "2025-04-15T13:05:00.408871Z"
        },
        "id": "9thj152Jjxjz",
        "outputId": "8969f282-62db-4cbc-82a6-f87d4736ab6e"
      },
      "outputs": [
        {
          "name": "stdout",
          "text": "\nList of Unique Species:\n ['setosa', 'versicolor', 'virginica']\n\nSetosa Statistics:\n        sepal length (cm)  sepal width (cm)  petal length (cm)  \\\ncount           50.00000         50.000000          50.000000   \nmean             5.00600          3.428000           1.462000   \nstd              0.35249          0.379064           0.173664   \nmin              4.30000          2.300000           1.000000   \n25%              4.80000          3.200000           1.400000   \n50%              5.00000          3.400000           1.500000   \n75%              5.20000          3.675000           1.575000   \nmax              5.80000          4.400000           1.900000   \n\n       petal width (cm)  \ncount         50.000000  \nmean           0.246000  \nstd            0.105386  \nmin            0.100000  \n25%            0.200000  \n50%            0.200000  \n75%            0.300000  \nmax            0.600000  \n\nVersicolor Statistics:\n        sepal length (cm)  sepal width (cm)  petal length (cm)  \\\ncount          50.000000         50.000000          50.000000   \nmean            5.936000          2.770000           4.260000   \nstd             0.516171          0.313798           0.469911   \nmin             4.900000          2.000000           3.000000   \n25%             5.600000          2.525000           4.000000   \n50%             5.900000          2.800000           4.350000   \n75%             6.300000          3.000000           4.600000   \nmax             7.000000          3.400000           5.100000   \n\n       petal width (cm)  \ncount         50.000000  \nmean           1.326000  \nstd            0.197753  \nmin            1.000000  \n25%            1.200000  \n50%            1.300000  \n75%            1.500000  \nmax            1.800000  \n\nVirginica Statistics:\n        sepal length (cm)  sepal width (cm)  petal length (cm)  \\\ncount           50.00000         50.000000          50.000000   \nmean             6.58800          2.974000           5.552000   \nstd              0.63588          0.322497           0.551895   \nmin              4.90000          2.200000           4.500000   \n25%              6.22500          2.800000           5.100000   \n50%              6.50000          3.000000           5.550000   \n75%              6.90000          3.175000           5.875000   \nmax              7.90000          3.800000           6.900000   \n\n       petal width (cm)  \ncount          50.00000  \nmean            2.02600  \nstd             0.27465  \nmin             1.40000  \n25%             1.80000  \n50%             2.00000  \n75%             2.30000  \nmax             2.50000  \n",
          "output_type": "stream"
        }
      ],
      "execution_count": null
    }
  ]
}