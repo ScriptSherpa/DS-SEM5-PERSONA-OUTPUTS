{
  "metadata": {
    "kernelspec": {
      "language": "python",
      "display_name": "Python 3",
      "name": "python3"
    },
    "language_info": {
      "name": "python",
      "version": "3.11.11",
      "mimetype": "text/x-python",
      "codemirror_mode": {
        "name": "ipython",
        "version": 3
      },
      "pygments_lexer": "ipython3",
      "nbconvert_exporter": "python",
      "file_extension": ".py"
    },
    "kaggle": {
      "accelerator": "none",
      "dataSources": [],
      "dockerImageVersionId": 31012,
      "isInternetEnabled": false,
      "language": "python",
      "sourceType": "notebook",
      "isGpuEnabled": false
    },
    "colab": {
      "name": "DS-EXP2",
      "provenance": [],
      "include_colab_link": true
    }
  },
  "nbformat_minor": 0,
  "nbformat": 4,
  "cells": [
    {
      "cell_type": "markdown",
      "metadata": {
        "id": "view-in-github",
        "colab_type": "text"
      },
      "source": [
        "<a href=\"https://colab.research.google.com/github/ScriptSherpa/DS-SEM5-PERSONA-OUTPUTS/blob/main/DS_EXP2.ipynb\" target=\"_parent\"><img src=\"https://colab.research.google.com/assets/colab-badge.svg\" alt=\"Open In Colab\"/></a>"
      ]
    },
    {
      "cell_type": "code",
      "source": [
        "# This Python 3 environment comes with many helpful analytics libraries installed\n",
        "# It is defined by the kaggle/python Docker image: https://github.com/kaggle/docker-python\n",
        "# For example, here's several helpful packages to load\n",
        "\n",
        "import numpy as np # linear algebra\n",
        "import pandas as pd # data processing, CSV file I/O (e.g. pd.read_csv)\n",
        "\n",
        "# Input data files are available in the read-only \"../input/\" directory\n",
        "# For example, running this (by clicking run or pressing Shift+Enter) will list all files under the input directory\n",
        "\n",
        "import os\n",
        "for dirname, _, filenames in os.walk('/kaggle/input'):\n",
        "    for filename in filenames:\n",
        "        print(os.path.join(dirname, filename))\n",
        "\n",
        "# You can write up to 20GB to the current directory (/kaggle/working/) that gets preserved as output when you create a version using \"Save & Run All\"\n",
        "# You can also write temporary files to /kaggle/temp/, but they won't be saved outside of the current session"
      ],
      "metadata": {
        "_uuid": "8f2839f25d086af736a60e9eeb907d3b93b6e0e5",
        "_cell_guid": "b1076dfc-b9ad-4769-8c92-a6c4dae69d19",
        "trusted": true,
        "id": "JU2g4tJuhyBe"
      },
      "outputs": [],
      "execution_count": null
    },
    {
      "cell_type": "code",
      "source": [
        "import pandas as pd\n",
        "import numpy as np\n",
        "# Create a synthetic dataset\n",
        "data = {\n",
        "  'Student_ID': range(1, 101),\n",
        "  'Gender': np.random.choice(['Male', 'Female'], 100),\n",
        "  'Age': np.random.randint(18, 25, 100),\n",
        "  'Math_Score': np.random.randint(0, 101, 100),\n",
        "  'English_Score': np.random.randint(0, 101, 100),\n",
        "  'Attendance': np.random.uniform(60, 100, 100),\n",
        "  'Final_Grade': np.random.randint(50, 100, 100),\n",
        "  'Family_Income': np.random.randint(20, 100, 100)\n",
        "}\n",
        "# Create a DataFrame\n",
        "df = pd.DataFrame(data)\n",
        "# Introduce missing values (for demonstration purposes)\n",
        "df.loc[::10, 'Math_Score'] = np.nan  # Missing values in Math_Score\n",
        "df.loc[::5, 'Family_Income'] = np.nan  # Missing values in\n",
        "\n",
        "# Introduce inconsistencies (age > 30, attendance > 100)\n",
        "df.loc[5, 'Age'] = 32\n",
        "df.loc[15, 'Attendance'] = 105\n",
        "# Introduce outliers\n",
        "df.loc[20, 'Math_Score'] = 200  # Outlier in Math_Score\n",
        "df.loc[30, 'English_Score'] = -5  # Outlier in English_Score\n",
        "\n",
        "# Display first few rows of the dataset\n",
        "# Check for missing values\n",
        "missing_values = df.isnull().sum()\n",
        "import pandas as pd\n",
        "import numpy as np\n",
        "# Create a synthetic dataset\n",
        "data = {\n",
        "  'Student_ID': range(1, 101),\n",
        "  'Gender': np.random.choice(['Male', 'Female'], 100),\n",
        "  'Age': np.random.randint(18, 25, 100),\n",
        "  'Math_Score': np.random.randint(0, 101, 100),\n",
        "  'English_Score': np.random.randint(0, 101, 100),\n",
        "  'Attendance': np.random.uniform(60, 100, 100),\n",
        "  'Final_Grade': np.random.randint(50, 100, 100),\n",
        "  'Family_Income': np.random.randint(20, 100, 100)\n",
        "}\n",
        "# Create a DataFrame\n",
        "df = pd.DataFrame(data)\n",
        "# Introduce missing values (for demonstration purposes)\n",
        "df.loc[::10, 'Math_Score'] = np.nan  # Missing values in Math_Score\n",
        "df.loc[::5, 'Family_Income'] = np.nan  # Missing values in\n",
        "\n",
        "# Introduce inconsistencies (age > 30, attendance > 100)\n",
        "df.loc[5, 'Age'] = 32\n",
        "df.loc[15, 'Attendance'] = 105\n",
        "# Introduce outliers\n",
        "df.loc[20, 'Math_Score'] = 200  # Outlier in Math_Score\n",
        "df.loc[30, 'English_Score'] = -5  # Outlier in English_Score\n",
        "\n",
        "# Display first few rows of the dataset\n",
        "# Check for missing values\n",
        "missing_values = df.isnull().sum()\n",
        "# Impute missing values for numeric variables with mean\n",
        "df['Math_Score'] = df['Math_Score'].fillna(df['Math_Score'].mean())\n",
        "df['Family_Income'] = df['Family_Income'].fillna(df['Family_Income'].mean())\n",
        "# For categorical variable, impute with mode (most frequent value)\n",
        "df['Gender'] = df['Gender'].fillna(df['Gender'].mode()[0])\n",
        "# Fix inconsistencies\n",
        "df['Age'] = df['Age'].apply(lambda x: x if x <= 30 else 25)  # Cap age\n",
        "\n",
        "df['Attendance'] = df['Attendance'].apply(lambda x: x if x <= 100 else 100)  # Cap attendance to 100\n",
        "# Check the dataset after cleaning\n",
        "df.head()\n",
        "df['Gender'] = df['Gender'].fillna(df['Gender'].mode()[0])\n",
        "# Fix inconsistencies\n",
        "df['Age'] = df['Age'].apply(lambda x: x if x <= 30 else 25)  # Cap age\n",
        "\n",
        "df['Attendance'] = df['Attendance'].apply(lambda x: x if x <= 100 else\n",
        "100)  # Cap attendance to 100\n",
        "# Check the dataset after cleaning\n",
        "df.head()"
      ],
      "metadata": {
        "trusted": true,
        "execution": {
          "iopub.status.busy": "2025-04-15T12:46:29.87675Z",
          "iopub.execute_input": "2025-04-15T12:46:29.87703Z",
          "iopub.status.idle": "2025-04-15T12:46:29.91147Z",
          "shell.execute_reply.started": "2025-04-15T12:46:29.877008Z",
          "shell.execute_reply": "2025-04-15T12:46:29.910589Z"
        },
        "id": "I79MRLG8hyBi"
      },
      "outputs": [],
      "execution_count": null
    },
    {
      "cell_type": "code",
      "source": [
        "# Function to detect outliers using IQR\n",
        "def detect_outliers(df, column):\n",
        "    Q1 = df[column].quantile(0.25)\n",
        "    Q3 = df[column].quantile(0.75)\n",
        "    IQR = Q3 - Q1\n",
        "    lower_bound = Q1 - 1.5 * IQR\n",
        "    upper_bound = Q3 + 1.5 * IQR\n",
        "    return df[(df[column] < lower_bound) | (df[column] > upper_bound)]\n",
        "\n",
        "# Check for outliers in numeric columns\n",
        "outliers_math = detect_outliers(df, 'Math_Score')\n",
        "outliers_english = detect_outliers(df, 'English_Score')\n",
        "# Display outliers\n",
        "outliers_math, outliers_english\n",
        "\n",
        "# Handle outliers by capping them\n",
        "def cap_outliers(df, column):\n",
        "    Q1 = df[column].quantile(0.25)\n",
        "    Q3 = df[column].quantile(0.75)\n",
        "    IQR = Q3 - Q1\n",
        "    lower_bound = Q1 - 1.5 * IQR\n",
        "    upper_bound = Q3 + 1.5 * IQR\n",
        "    df[column] = df[column].apply(lambda x: min(max(x, lower_bound), upper_bound))\n",
        "\n",
        "# Cap outliers in Math_Score and English_Score\n",
        "cap_outliers(df, 'Math_Score')\n",
        "cap_outliers(df, 'English_Score')\n",
        "# Check for outliers after capping\n",
        "detect_outliers(df, 'Math_Score'), detect_outliers(df, 'English_Score')"
      ],
      "metadata": {
        "trusted": true,
        "execution": {
          "iopub.status.busy": "2025-04-15T12:53:49.91579Z",
          "iopub.execute_input": "2025-04-15T12:53:49.916385Z",
          "iopub.status.idle": "2025-04-15T12:53:49.944996Z",
          "shell.execute_reply.started": "2025-04-15T12:53:49.91633Z",
          "shell.execute_reply": "2025-04-15T12:53:49.944368Z"
        },
        "id": "76GkF66YhyBj"
      },
      "outputs": [],
      "execution_count": null
    },
    {
      "cell_type": "code",
      "source": [
        "# Before capping\n",
        "print(df[['Math_Score', 'English_Score']].describe())\n",
        "\n",
        "# Apply capping (your cap_outliers function)\n",
        "\n",
        "# After capping\n",
        "print(df[['Math_Score', 'English_Score']].describe())"
      ],
      "metadata": {
        "trusted": true,
        "execution": {
          "iopub.status.busy": "2025-04-15T12:53:57.101836Z",
          "iopub.execute_input": "2025-04-15T12:53:57.1021Z",
          "iopub.status.idle": "2025-04-15T12:53:57.121784Z",
          "shell.execute_reply.started": "2025-04-15T12:53:57.102082Z",
          "shell.execute_reply": "2025-04-15T12:53:57.121126Z"
        },
        "id": "UjfgOlLwhyBk"
      },
      "outputs": [],
      "execution_count": null
    },
    {
      "cell_type": "code",
      "source": [
        "import numpy as np\n",
        "import seaborn as sns\n",
        "import matplotlib.pyplot as plt\n",
        "\n",
        "# Apply log transformation to Family_Income\n",
        "df['Log_Family_Income'] = np.log(df['Family_Income'])\n",
        "\n",
        "# Check the distribution before and after transformation\n",
        "plt.figure(figsize=(12, 6))\n",
        "\n",
        "# Before transformation\n",
        "plt.subplot(1, 2, 1)\n",
        "sns.histplot(df['Family_Income'], kde=True, color='blue')\n",
        "plt.title('Family Income (Original)')\n",
        "\n",
        "# After transformation\n",
        "plt.subplot(1, 2, 2)\n",
        "sns.histplot(df['Log_Family_Income'], kde=True, color='green')\n",
        "plt.title('Log Transformed Family Income')\n",
        "\n",
        "plt.tight_layout()  # Adjusts subplot params for a tight layout\n",
        "plt.show()"
      ],
      "metadata": {
        "trusted": true,
        "execution": {
          "iopub.status.busy": "2025-04-15T12:54:47.256479Z",
          "iopub.execute_input": "2025-04-15T12:54:47.257151Z",
          "iopub.status.idle": "2025-04-15T12:54:48.779281Z",
          "shell.execute_reply.started": "2025-04-15T12:54:47.257124Z",
          "shell.execute_reply": "2025-04-15T12:54:48.778518Z"
        },
        "id": "luS5fUcLhyBk"
      },
      "outputs": [],
      "execution_count": null
    }
  ]
}